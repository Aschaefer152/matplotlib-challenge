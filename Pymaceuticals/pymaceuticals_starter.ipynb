{
 "cells": [
  {
   "cell_type": "markdown",
   "metadata": {},
   "source": [
    "## Observations and Insights "
   ]
  },
  {
   "cell_type": "code",
   "execution_count": 1,
   "metadata": {},
   "outputs": [],
   "source": [
    "# Import Numpy for calculations and matplotlib for charting\n",
    "import numpy as np\n",
    "import matplotlib.pyplot as plt"
   ]
  },
  {
   "cell_type": "code",
   "execution_count": 2,
   "metadata": {},
   "outputs": [
    {
     "data": {
      "text/html": [
       "<div>\n",
       "<style scoped>\n",
       "    .dataframe tbody tr th:only-of-type {\n",
       "        vertical-align: middle;\n",
       "    }\n",
       "\n",
       "    .dataframe tbody tr th {\n",
       "        vertical-align: top;\n",
       "    }\n",
       "\n",
       "    .dataframe thead th {\n",
       "        text-align: right;\n",
       "    }\n",
       "</style>\n",
       "<table border=\"1\" class=\"dataframe\">\n",
       "  <thead>\n",
       "    <tr style=\"text-align: right;\">\n",
       "      <th></th>\n",
       "      <th>Mouse ID</th>\n",
       "      <th>Drug Regimen</th>\n",
       "      <th>Sex</th>\n",
       "      <th>Age_months</th>\n",
       "      <th>Weight (g)</th>\n",
       "      <th>Timepoint</th>\n",
       "      <th>Tumor Volume (mm3)</th>\n",
       "      <th>Metastatic Sites</th>\n",
       "    </tr>\n",
       "  </thead>\n",
       "  <tbody>\n",
       "    <tr>\n",
       "      <th>0</th>\n",
       "      <td>k403</td>\n",
       "      <td>Ramicane</td>\n",
       "      <td>Male</td>\n",
       "      <td>21</td>\n",
       "      <td>16</td>\n",
       "      <td>0</td>\n",
       "      <td>45.000000</td>\n",
       "      <td>0</td>\n",
       "    </tr>\n",
       "    <tr>\n",
       "      <th>1</th>\n",
       "      <td>k403</td>\n",
       "      <td>Ramicane</td>\n",
       "      <td>Male</td>\n",
       "      <td>21</td>\n",
       "      <td>16</td>\n",
       "      <td>5</td>\n",
       "      <td>38.825898</td>\n",
       "      <td>0</td>\n",
       "    </tr>\n",
       "    <tr>\n",
       "      <th>2</th>\n",
       "      <td>k403</td>\n",
       "      <td>Ramicane</td>\n",
       "      <td>Male</td>\n",
       "      <td>21</td>\n",
       "      <td>16</td>\n",
       "      <td>10</td>\n",
       "      <td>35.014271</td>\n",
       "      <td>1</td>\n",
       "    </tr>\n",
       "    <tr>\n",
       "      <th>3</th>\n",
       "      <td>k403</td>\n",
       "      <td>Ramicane</td>\n",
       "      <td>Male</td>\n",
       "      <td>21</td>\n",
       "      <td>16</td>\n",
       "      <td>15</td>\n",
       "      <td>34.223992</td>\n",
       "      <td>1</td>\n",
       "    </tr>\n",
       "    <tr>\n",
       "      <th>4</th>\n",
       "      <td>k403</td>\n",
       "      <td>Ramicane</td>\n",
       "      <td>Male</td>\n",
       "      <td>21</td>\n",
       "      <td>16</td>\n",
       "      <td>20</td>\n",
       "      <td>32.997729</td>\n",
       "      <td>1</td>\n",
       "    </tr>\n",
       "  </tbody>\n",
       "</table>\n",
       "</div>"
      ],
      "text/plain": [
       "  Mouse ID Drug Regimen   Sex  Age_months  Weight (g)  Timepoint  \\\n",
       "0     k403     Ramicane  Male          21          16          0   \n",
       "1     k403     Ramicane  Male          21          16          5   \n",
       "2     k403     Ramicane  Male          21          16         10   \n",
       "3     k403     Ramicane  Male          21          16         15   \n",
       "4     k403     Ramicane  Male          21          16         20   \n",
       "\n",
       "   Tumor Volume (mm3)  Metastatic Sites  \n",
       "0           45.000000                 0  \n",
       "1           38.825898                 0  \n",
       "2           35.014271                 1  \n",
       "3           34.223992                 1  \n",
       "4           32.997729                 1  "
      ]
     },
     "execution_count": 2,
     "metadata": {},
     "output_type": "execute_result"
    }
   ],
   "source": [
    "# Dependencies and Setup\n",
    "import matplotlib.pyplot as plt\n",
    "import pandas as pd\n",
    "import scipy.stats as st\n",
    "\n",
    "# Study data files\n",
    "mouse_metadata_path = \"data/Mouse_metadata.csv\"\n",
    "study_results_path = \"data/Study_results.csv\"\n",
    "\n",
    "# Read the mouse data and the study results\n",
    "mouse_metadata = pd.read_csv(mouse_metadata_path)\n",
    "study_results = pd.read_csv(study_results_path)\n",
    "\n",
    "# Combine the data into a single dataset\n",
    "combined_scc_data = pd.merge(mouse_metadata, study_results)\n",
    "# Display the data table for preview\n",
    "combined_scc_data.head()"
   ]
  },
  {
   "cell_type": "code",
   "execution_count": 3,
   "metadata": {},
   "outputs": [
    {
     "data": {
      "text/plain": [
       "1893"
      ]
     },
     "execution_count": 3,
     "metadata": {},
     "output_type": "execute_result"
    }
   ],
   "source": [
    "# Checking the number of mice.\n",
    "combined_scc_data[\"Mouse ID\"].count()"
   ]
  },
  {
   "cell_type": "code",
   "execution_count": 4,
   "metadata": {},
   "outputs": [],
   "source": [
    "#define Mouse ID and Point \n",
    "mouse_id_df=['Mouse ID']\n",
    "time_point_df=['Timepoint']"
   ]
  },
  {
   "cell_type": "code",
   "execution_count": 5,
   "metadata": {},
   "outputs": [
    {
     "name": "stdout",
     "output_type": "stream",
     "text": [
      "    Mouse ID Drug Regimen     Sex  Age_months  Weight (g)  Timepoint  \\\n",
      "909     g989     Propriva  Female          21          26          0   \n",
      "911     g989     Propriva  Female          21          26          5   \n",
      "913     g989     Propriva  Female          21          26         10   \n",
      "915     g989     Propriva  Female          21          26         15   \n",
      "917     g989     Propriva  Female          21          26         20   \n",
      "\n",
      "     Tumor Volume (mm3)  Metastatic Sites  \n",
      "909           45.000000                 0  \n",
      "911           47.570392                 0  \n",
      "913           49.880528                 0  \n",
      "915           53.442020                 0  \n",
      "917           54.657650                 1  \n"
     ]
    }
   ],
   "source": [
    "## Getting the duplicate mice by ID number that shows up for Mouse ID and Timepoint. \n",
    "duplicateRowsDF = combined_scc_data[combined_scc_data.duplicated(['Mouse ID', 'Timepoint'])]\n",
    "print(duplicateRowsDF)"
   ]
  },
  {
   "cell_type": "code",
   "execution_count": 41,
   "metadata": {},
   "outputs": [
    {
     "name": "stdout",
     "output_type": "stream",
     "text": [
      "    Mouse ID Drug Regimen     Sex  Age_months  Weight (g)  Timepoint  \\\n",
      "909     g989     Propriva  Female          21          26          0   \n",
      "911     g989     Propriva  Female          21          26          5   \n",
      "913     g989     Propriva  Female          21          26         10   \n",
      "915     g989     Propriva  Female          21          26         15   \n",
      "917     g989     Propriva  Female          21          26         20   \n",
      "\n",
      "     Tumor Volume (mm3)  Metastatic Sites  \n",
      "909           45.000000                 0  \n",
      "911           47.570392                 0  \n",
      "913           49.880528                 0  \n",
      "915           53.442020                 0  \n",
      "917           54.657650                 1  \n"
     ]
    }
   ],
   "source": [
    "# Optional: Get all the data for the duplicate mouse ID. \n",
    "duplicateRowsDF = combined_scc_data[combined_scc_data.duplicated(['Mouse ID', 'Timepoint'])]\n",
    "print(duplicateRowsDF)"
   ]
  },
  {
   "cell_type": "code",
   "execution_count": 49,
   "metadata": {},
   "outputs": [],
   "source": [
    "# Checking the number of mice in the clean DataFrame.\n",
    "#clean out g989\n",
    "clean_data=combined_scc_data.loc[combined_scc_data['Mouse ID']!= \"g989\"]\n",
    "#change code to clean data"
   ]
  },
  {
   "cell_type": "code",
   "execution_count": 52,
   "metadata": {},
   "outputs": [
    {
     "data": {
      "text/plain": [
       "248"
      ]
     },
     "execution_count": 52,
     "metadata": {},
     "output_type": "execute_result"
    }
   ],
   "source": [
    "len(clean_data['Mouse ID'].unique())"
   ]
  },
  {
   "cell_type": "markdown",
   "metadata": {},
   "source": [
    "## Summary Statistics"
   ]
  },
  {
   "cell_type": "code",
   "execution_count": 53,
   "metadata": {},
   "outputs": [
    {
     "name": "stderr",
     "output_type": "stream",
     "text": [
      "C:\\Users\\Anna Schaefer\\anaconda3\\lib\\site-packages\\numpy\\core\\_methods.py:217: RuntimeWarning: Degrees of freedom <= 0 for slice\n",
      "  keepdims=keepdims)\n",
      "C:\\Users\\Anna Schaefer\\anaconda3\\lib\\site-packages\\numpy\\core\\_methods.py:186: RuntimeWarning: invalid value encountered in true_divide\n",
      "  arrmean, rcount, out=arrmean, casting='unsafe', subok=False)\n",
      "C:\\Users\\Anna Schaefer\\anaconda3\\lib\\site-packages\\numpy\\core\\_methods.py:209: RuntimeWarning: invalid value encountered in double_scalars\n",
      "  ret = ret.dtype.type(ret / rcount)\n"
     ]
    },
    {
     "data": {
      "text/html": [
       "<div>\n",
       "<style scoped>\n",
       "    .dataframe tbody tr th:only-of-type {\n",
       "        vertical-align: middle;\n",
       "    }\n",
       "\n",
       "    .dataframe tbody tr th {\n",
       "        vertical-align: top;\n",
       "    }\n",
       "\n",
       "    .dataframe thead th {\n",
       "        text-align: right;\n",
       "    }\n",
       "</style>\n",
       "<table border=\"1\" class=\"dataframe\">\n",
       "  <thead>\n",
       "    <tr style=\"text-align: right;\">\n",
       "      <th></th>\n",
       "      <th>Tumor_Mean</th>\n",
       "      <th>Tumor_Median</th>\n",
       "      <th>Tumor_Variance</th>\n",
       "      <th>Tumor_Std</th>\n",
       "      <th>Tumor_SEM</th>\n",
       "    </tr>\n",
       "    <tr>\n",
       "      <th>Drug Regimen</th>\n",
       "      <th></th>\n",
       "      <th></th>\n",
       "      <th></th>\n",
       "      <th></th>\n",
       "      <th></th>\n",
       "    </tr>\n",
       "  </thead>\n",
       "  <tbody>\n",
       "    <tr>\n",
       "      <th>Capomulin</th>\n",
       "      <td>40.676</td>\n",
       "      <td>41.558</td>\n",
       "      <td>24.948</td>\n",
       "      <td>4.995</td>\n",
       "      <td>0.329</td>\n",
       "    </tr>\n",
       "    <tr>\n",
       "      <th>Ceftamin</th>\n",
       "      <td>52.591</td>\n",
       "      <td>51.776</td>\n",
       "      <td>39.290</td>\n",
       "      <td>6.268</td>\n",
       "      <td>0.470</td>\n",
       "    </tr>\n",
       "    <tr>\n",
       "      <th>Infubinol</th>\n",
       "      <td>52.885</td>\n",
       "      <td>51.821</td>\n",
       "      <td>43.129</td>\n",
       "      <td>6.567</td>\n",
       "      <td>0.492</td>\n",
       "    </tr>\n",
       "    <tr>\n",
       "      <th>Ketapril</th>\n",
       "      <td>55.236</td>\n",
       "      <td>53.699</td>\n",
       "      <td>68.554</td>\n",
       "      <td>8.280</td>\n",
       "      <td>0.604</td>\n",
       "    </tr>\n",
       "    <tr>\n",
       "      <th>Naftisol</th>\n",
       "      <td>54.332</td>\n",
       "      <td>52.509</td>\n",
       "      <td>66.173</td>\n",
       "      <td>8.135</td>\n",
       "      <td>0.596</td>\n",
       "    </tr>\n",
       "    <tr>\n",
       "      <th>Placebo</th>\n",
       "      <td>54.034</td>\n",
       "      <td>52.289</td>\n",
       "      <td>61.168</td>\n",
       "      <td>7.821</td>\n",
       "      <td>0.581</td>\n",
       "    </tr>\n",
       "    <tr>\n",
       "      <th>Propriva</th>\n",
       "      <td>52.321</td>\n",
       "      <td>50.446</td>\n",
       "      <td>43.852</td>\n",
       "      <td>6.622</td>\n",
       "      <td>0.544</td>\n",
       "    </tr>\n",
       "    <tr>\n",
       "      <th>Ramicane</th>\n",
       "      <td>40.217</td>\n",
       "      <td>40.673</td>\n",
       "      <td>23.487</td>\n",
       "      <td>4.846</td>\n",
       "      <td>0.321</td>\n",
       "    </tr>\n",
       "    <tr>\n",
       "      <th>Stelasyn</th>\n",
       "      <td>54.233</td>\n",
       "      <td>52.432</td>\n",
       "      <td>59.451</td>\n",
       "      <td>7.710</td>\n",
       "      <td>0.573</td>\n",
       "    </tr>\n",
       "    <tr>\n",
       "      <th>Zoniferol</th>\n",
       "      <td>53.237</td>\n",
       "      <td>51.818</td>\n",
       "      <td>48.533</td>\n",
       "      <td>6.967</td>\n",
       "      <td>0.516</td>\n",
       "    </tr>\n",
       "  </tbody>\n",
       "</table>\n",
       "</div>"
      ],
      "text/plain": [
       "              Tumor_Mean  Tumor_Median  Tumor_Variance  Tumor_Std  Tumor_SEM\n",
       "Drug Regimen                                                                \n",
       "Capomulin         40.676        41.558          24.948      4.995      0.329\n",
       "Ceftamin          52.591        51.776          39.290      6.268      0.470\n",
       "Infubinol         52.885        51.821          43.129      6.567      0.492\n",
       "Ketapril          55.236        53.699          68.554      8.280      0.604\n",
       "Naftisol          54.332        52.509          66.173      8.135      0.596\n",
       "Placebo           54.034        52.289          61.168      7.821      0.581\n",
       "Propriva          52.321        50.446          43.852      6.622      0.544\n",
       "Ramicane          40.217        40.673          23.487      4.846      0.321\n",
       "Stelasyn          54.233        52.432          59.451      7.710      0.573\n",
       "Zoniferol         53.237        51.818          48.533      6.967      0.516"
      ]
     },
     "execution_count": 53,
     "metadata": {},
     "output_type": "execute_result"
    }
   ],
   "source": [
    "# Generate a summary statistics table of mean, median, variance, standard deviation, and SEM of the tumor volume for each regimen\n",
    "drug_summary= clean_data.groupby('Drug Regimen').agg(\\\n",
    " \n",
    "     #mean of Tumor Volume Column\n",
    "     Tumor_Mean=('Tumor Volume (mm3)', np.mean),\\\n",
    "     #median of Tumor Volume Column\n",
    "     Tumor_Median=('Tumor Volume (mm3)', np.median),\\\n",
    "     #variance of the Tumor Volume Column\n",
    "     Tumor_Variance=('Tumor Volume (mm3)', np.var),\\\n",
    "     #STD of Tumor Volume Column\n",
    "     Tumor_Std=('Tumor Volume (mm3)', np.std),\\\n",
    "     #SEM of Tumor Volume Column\n",
    "     Tumor_SEM=('Tumor Volume (mm3)', st.sem),\\\n",
    ").round(3)\n",
    "#display the summary statistics\n",
    "drug_summary\n",
    "    \n",
    "# This method is the most straighforward, creating multiple series and putting them all together at the end.\n"
   ]
  },
  {
   "cell_type": "markdown",
   "metadata": {},
   "source": [
    "## Bar and Pie Charts"
   ]
  },
  {
   "cell_type": "code",
   "execution_count": 10,
   "metadata": {},
   "outputs": [],
   "source": [
    "#check data points\n",
    "#regimen_data_points = duplicateRowsDF.groupby([\"Drug Regimen\"]).count()[\"Mouse ID\"]\n",
    "#regimen_data_points"
   ]
  },
  {
   "cell_type": "code",
   "execution_count": 54,
   "metadata": {},
   "outputs": [
    {
     "data": {
      "image/png": "[encoded data removed]",
      "text/plain": [
       "<Figure size 432x288 with 1 Axes>"
      ]
     },
     "metadata": {
      "needs_background": "light"
     },
     "output_type": "display_data"
    }
   ],
   "source": [
    "# Generate a bar plot showing the total number of mice for each treatment throughout the course of the study using pandas. \n",
    "\n",
    "#create the dataframe by grouping Drug Regimen\n",
    "total_mice_regimen=clean_data.groupby('Drug Regimen')\n",
    "\n",
    "\n",
    "#create the dataframe counting the total number of mice for each drug regimen\n",
    "total_regimen_count=pd.DataFrame(total_mice_regimen['Drug Regimen'].count())\n",
    "\n",
    "                                                        \n",
    "#create the bar plot\n",
    "total_plot=total_regimen_count.plot(kind='bar', title=\"Total Mice for each Drug Regimen\", color=\"blue\")\n",
    "\n",
    "#set the x/y-labels\n",
    "total_plot.set_xlabel(\"Drug Regimen\")\n",
    "total_plot.set_ylabel(\"Total Mice\")\n",
    "plt.tight_layout()\n",
    "\n",
    "plt.show()\n"
   ]
  },
  {
   "cell_type": "code",
   "execution_count": 17,
   "metadata": {},
   "outputs": [
    {
     "data": {
      "image/png": "[encoded data removed]",
      "text/plain": [
       "<Figure size 720x648 with 1 Axes>"
      ]
     },
     "metadata": {
      "needs_background": "light"
     },
     "output_type": "display_data"
    }
   ],
   "source": [
    "# Generate a bar plot showing the total number of mice for each treatment throughout the course of the study using pyplot.\n",
    "#set xaxis and tick loc\n",
    "x_axis=np.arange(len(total_regimen_count))\n",
    "tick_location= [value for value in x_axis]\n",
    "\n",
    "#create a list indicting where to write x-labels and set figure size \n",
    "plt.figure(figsize=(10,9))\n",
    "plt.bar(x_axis, total_regimen_count[\"Drug Regimen\"], color='blue', align=\"center\", width=0.5)\n",
    "plt.xticks(tick_location, list(total_regimen_count.index), rotation=\"vertical\")\n",
    "\n",
    "#set x and y limits\n",
    "plt.xlim(-0.7, len(x_axis)-0.3)\n",
    "plt.ylim(0, max(total_regimen_count[\"Drug Regimen\"])*1.05)\n",
    "\n",
    "#set title/labels\n",
    "plt.title(\"Total Number of Mice for each Drug Regimen\")\n",
    "plt.xlabel(\"Drug Regimen\")\n",
    "plt.ylabel(\"Total Number of Mice\")\n",
    "\n",
    "column_name=[\"Drug Regimen\"]\n",
    "plt.legend(column_name,loc=\"best\")\n",
    "\n",
    "\n",
    "plt.show()\n"
   ]
  },
  {
   "cell_type": "code",
   "execution_count": 118,
   "metadata": {},
   "outputs": [
    {
     "data": {
      "text/html": [
       "<div>\n",
       "<style scoped>\n",
       "    .dataframe tbody tr th:only-of-type {\n",
       "        vertical-align: middle;\n",
       "    }\n",
       "\n",
       "    .dataframe tbody tr th {\n",
       "        vertical-align: top;\n",
       "    }\n",
       "\n",
       "    .dataframe thead th {\n",
       "        text-align: right;\n",
       "    }\n",
       "</style>\n",
       "<table border=\"1\" class=\"dataframe\">\n",
       "  <thead>\n",
       "    <tr style=\"text-align: right;\">\n",
       "      <th></th>\n",
       "      <th>Total Count</th>\n",
       "      <th>Percentage of Sex</th>\n",
       "    </tr>\n",
       "    <tr>\n",
       "      <th>Sex</th>\n",
       "      <th></th>\n",
       "      <th></th>\n",
       "    </tr>\n",
       "  </thead>\n",
       "  <tbody>\n",
       "    <tr>\n",
       "      <th>Female</th>\n",
       "      <td>123</td>\n",
       "      <td>49.596774</td>\n",
       "    </tr>\n",
       "    <tr>\n",
       "      <th>Male</th>\n",
       "      <td>125</td>\n",
       "      <td>50.403226</td>\n",
       "    </tr>\n",
       "  </tbody>\n",
       "</table>\n",
       "</div>"
      ],
      "text/plain": [
       "        Total Count  Percentage of Sex\n",
       "Sex                                   \n",
       "Female          123          49.596774\n",
       "Male            125          50.403226"
      ]
     },
     "execution_count": 118,
     "metadata": {},
     "output_type": "execute_result"
    }
   ],
   "source": [
    "# Generate a pie plot showing the distribution of female versus male mice using pandas\n",
    "#create groupby for Sex\n",
    "grouby_sex= clean_data.groupby([\"Mouse ID\", \"Sex\"])\n",
    "grouby_sex\n",
    "\n",
    "gender_df=pd.DataFrame(grouby_sex.size())\n",
    "\n",
    "#create dataframe, count by gender\n",
    "gender=pd.DataFrame(gender_df.groupby(['Sex']).count())\n",
    "gender.columns= [\"Total Count\"]\n",
    "\n",
    "#create the percentage of female vs male mouse\n",
    "gender[\"Percentage of Sex\"] = (100*(gender[\"Total Count\"]/gender[\"Total Count\"].sum()))\n",
    "\n",
    "gender"
   ]
  },
  {
   "cell_type": "code",
   "execution_count": 124,
   "metadata": {},
   "outputs": [
    {
     "data": {
      "text/plain": [
       "(-1.1192168963081732,\n",
       " 1.1079352522711863,\n",
       " -1.1167571903773796,\n",
       " 1.1085810220189514)"
      ]
     },
     "execution_count": 124,
     "metadata": {},
     "output_type": "execute_result"
    },
    {
     "data": {
      "image/png": "[encoded data removed]",
      "text/plain": [
       "<Figure size 432x288 with 1 Axes>"
      ]
     },
     "metadata": {},
     "output_type": "display_data"
    }
   ],
   "source": [
    "# Generate a pie plot showing the distribution of female versus male mice using pandas\n",
    "gender.plot(kind='pie', y='Percentage of Sex', \\\n",
    "                    title=\"Distribution of Female vs Male Mice\",\\\n",
    "                    startangle=140, autopct='%1.1f%%', shadow=True,\\\n",
    "                    fontsize=17, colors=[\"lightpink\", \"lightblue\"],\\\n",
    "                    legend=False)\n",
    "#make axis equal\n",
    "plt.axis(\"equal\")\n"
   ]
  },
  {
   "cell_type": "code",
   "execution_count": 132,
   "metadata": {},
   "outputs": [
    {
     "data": {
      "text/plain": [
       "(-1.1192168963081732,\n",
       " 1.1079352522711863,\n",
       " -1.1167571903773796,\n",
       " 1.1085810220189514)"
      ]
     },
     "execution_count": 132,
     "metadata": {},
     "output_type": "execute_result"
    },
    {
     "data": {
      "image/png": "[encoded data removed]",
      "text/plain": [
       "<Figure size 432x288 with 1 Axes>"
      ]
     },
     "metadata": {},
     "output_type": "display_data"
    }
   ],
   "source": [
    "# Generate a pie plot showing the distribution of female versus male mice using pyplot\n",
    "#labels\n",
    "labels=[\"Female\", \"Male\"]\n",
    "\n",
    "#sizes\n",
    "sizes=gender[\"Percentage of Sex\"]\n",
    "\n",
    "#color\n",
    "colors= [\"lightpink\", \"lightblue\"]\n",
    "\n",
    "#create the pie chart\n",
    "plt.pie(sizes, labels=labels, colors=colors, autopct=\"%1.1f%%\", shadow=True, startangle=140)\n",
    "\n",
    "#set equal axis\n",
    "plt.axis(\"equal\")"
   ]
  },
  {
   "cell_type": "markdown",
   "metadata": {},
   "source": [
    "## Quartiles, Outliers and Boxplots"
   ]
  },
  {
   "cell_type": "code",
   "execution_count": 57,
   "metadata": {},
   "outputs": [
    {
     "data": {
      "text/html": [
       "<div>\n",
       "<style scoped>\n",
       "    .dataframe tbody tr th:only-of-type {\n",
       "        vertical-align: middle;\n",
       "    }\n",
       "\n",
       "    .dataframe tbody tr th {\n",
       "        vertical-align: top;\n",
       "    }\n",
       "\n",
       "    .dataframe thead th {\n",
       "        text-align: right;\n",
       "    }\n",
       "</style>\n",
       "<table border=\"1\" class=\"dataframe\">\n",
       "  <thead>\n",
       "    <tr style=\"text-align: right;\">\n",
       "      <th></th>\n",
       "      <th>Drug Regimen</th>\n",
       "      <th>Mouse ID</th>\n",
       "      <th>Timepoint</th>\n",
       "      <th>Tumor Volume (mm3)</th>\n",
       "    </tr>\n",
       "  </thead>\n",
       "  <tbody>\n",
       "    <tr>\n",
       "      <th>0</th>\n",
       "      <td>Ramicane</td>\n",
       "      <td>k403</td>\n",
       "      <td>0</td>\n",
       "      <td>45.000000</td>\n",
       "    </tr>\n",
       "    <tr>\n",
       "      <th>1391</th>\n",
       "      <td>Infubinol</td>\n",
       "      <td>q132</td>\n",
       "      <td>0</td>\n",
       "      <td>45.000000</td>\n",
       "    </tr>\n",
       "    <tr>\n",
       "      <th>195</th>\n",
       "      <td>Capomulin</td>\n",
       "      <td>i738</td>\n",
       "      <td>0</td>\n",
       "      <td>45.000000</td>\n",
       "    </tr>\n",
       "    <tr>\n",
       "      <th>205</th>\n",
       "      <td>Ramicane</td>\n",
       "      <td>a520</td>\n",
       "      <td>0</td>\n",
       "      <td>45.000000</td>\n",
       "    </tr>\n",
       "    <tr>\n",
       "      <th>1370</th>\n",
       "      <td>Ceftamin</td>\n",
       "      <td>p438</td>\n",
       "      <td>0</td>\n",
       "      <td>45.000000</td>\n",
       "    </tr>\n",
       "    <tr>\n",
       "      <th>...</th>\n",
       "      <td>...</td>\n",
       "      <td>...</td>\n",
       "      <td>...</td>\n",
       "      <td>...</td>\n",
       "    </tr>\n",
       "    <tr>\n",
       "      <th>350</th>\n",
       "      <td>Capomulin</td>\n",
       "      <td>v923</td>\n",
       "      <td>45</td>\n",
       "      <td>40.658124</td>\n",
       "    </tr>\n",
       "    <tr>\n",
       "      <th>144</th>\n",
       "      <td>Capomulin</td>\n",
       "      <td>m957</td>\n",
       "      <td>45</td>\n",
       "      <td>33.329098</td>\n",
       "    </tr>\n",
       "    <tr>\n",
       "      <th>337</th>\n",
       "      <td>Capomulin</td>\n",
       "      <td>j119</td>\n",
       "      <td>45</td>\n",
       "      <td>38.125164</td>\n",
       "    </tr>\n",
       "    <tr>\n",
       "      <th>59</th>\n",
       "      <td>Ramicane</td>\n",
       "      <td>s508</td>\n",
       "      <td>45</td>\n",
       "      <td>30.276232</td>\n",
       "    </tr>\n",
       "    <tr>\n",
       "      <th>1872</th>\n",
       "      <td>Infubinol</td>\n",
       "      <td>z581</td>\n",
       "      <td>45</td>\n",
       "      <td>62.754451</td>\n",
       "    </tr>\n",
       "  </tbody>\n",
       "</table>\n",
       "<p>814 rows × 4 columns</p>\n",
       "</div>"
      ],
      "text/plain": [
       "     Drug Regimen Mouse ID  Timepoint  Tumor Volume (mm3)\n",
       "0        Ramicane     k403          0           45.000000\n",
       "1391    Infubinol     q132          0           45.000000\n",
       "195     Capomulin     i738          0           45.000000\n",
       "205      Ramicane     a520          0           45.000000\n",
       "1370     Ceftamin     p438          0           45.000000\n",
       "...           ...      ...        ...                 ...\n",
       "350     Capomulin     v923         45           40.658124\n",
       "144     Capomulin     m957         45           33.329098\n",
       "337     Capomulin     j119         45           38.125164\n",
       "59       Ramicane     s508         45           30.276232\n",
       "1872    Infubinol     z581         45           62.754451\n",
       "\n",
       "[814 rows x 4 columns]"
      ]
     },
     "execution_count": 57,
     "metadata": {},
     "output_type": "execute_result"
    }
   ],
   "source": [
    "# Calculate the final tumor volume of each mouse across four of the treatment regimens:  \n",
    "# Capomulin, Ramicane, Infubinol, and Ceftamin\n",
    "four_regimens= clean_data[clean_data[\"Drug Regimen\"].isin([\"Capomulin\", \"Ramicane\", \"Infubinol\", \"Ceftamin\"])]\n",
    "# Start by getting the last (greatest) timepoint for each mouse\n",
    "four_regimens= four_regimens.sort_values([\"Timepoint\"], ascending=True)\n",
    "\n",
    "# Merge this group df with the original dataframe to get the tumor volume at the last timepoint\n",
    "four_regimens_data=four_regimens[[\"Drug Regimen\", \"Mouse ID\", \"Timepoint\", \"Tumor Volume (mm3)\"]]\n",
    "\n",
    "four_regimens_data"
   ]
  },
  {
   "cell_type": "code",
   "execution_count": 58,
   "metadata": {},
   "outputs": [
    {
     "data": {
      "text/plain": [
       "248"
      ]
     },
     "execution_count": 58,
     "metadata": {},
     "output_type": "execute_result"
    }
   ],
   "source": [
    "len(clean_data['Mouse ID'].unique())"
   ]
  },
  {
   "cell_type": "code",
   "execution_count": 64,
   "metadata": {},
   "outputs": [],
   "source": [
    "# Put treatments into a list for for loop (and later for plot labels)\n",
    "top_4_drugs= [\"Capomulin\", \"Ramicane\", \"Infubinol\", \"Ceftamin\"]\n",
    "\n",
    "# Create empty list to fill with tumor vol data (for plotting)\n",
    "tumor_data=[]\n",
    "\n",
    "# Calculate the IQR and quantitatively determine if there are any potential outliers. \n",
    "\n",
    "\n",
    "    # Locate the rows which contain mice on each drug and get the tumor volumes\n",
    "for drug in top_4_drugs:\n",
    "    volume=clean_data.loc[clean_data['Drug Regimen']== drug, 'Tumor Volume (mm3)'] \n",
    "    tumor_data.append(volume)    \n",
    "    \n",
    "\n",
    "    # add subset \n",
    "    \n",
    "    \n",
    "    # Determine outliers using upper and lower bounds\n",
    "\n",
    "\n",
    "#print out list of potential outliers. Infubinol is the only one that has an outlier 36.32"
   ]
  },
  {
   "cell_type": "code",
   "execution_count": 37,
   "metadata": {},
   "outputs": [],
   "source": [
    "#tumor_data[1]"
   ]
  },
  {
   "cell_type": "code",
   "execution_count": 76,
   "metadata": {},
   "outputs": [
    {
     "data": {
      "text/plain": [
       "{'whiskers': [<matplotlib.lines.Line2D at 0x233cb598dc8>,\n",
       "  <matplotlib.lines.Line2D at 0x233cb598688>,\n",
       "  <matplotlib.lines.Line2D at 0x233cc44a4c8>,\n",
       "  <matplotlib.lines.Line2D at 0x233cc401788>,\n",
       "  <matplotlib.lines.Line2D at 0x233cc40df08>,\n",
       "  <matplotlib.lines.Line2D at 0x233cc416ec8>,\n",
       "  <matplotlib.lines.Line2D at 0x233cc428b48>,\n",
       "  <matplotlib.lines.Line2D at 0x233cc40d848>],\n",
       " 'caps': [<matplotlib.lines.Line2D at 0x233cc334188>,\n",
       "  <matplotlib.lines.Line2D at 0x233cc374a48>,\n",
       "  <matplotlib.lines.Line2D at 0x233cb51ca48>,\n",
       "  <matplotlib.lines.Line2D at 0x233cc3bb988>,\n",
       "  <matplotlib.lines.Line2D at 0x233cc416e88>,\n",
       "  <matplotlib.lines.Line2D at 0x233cc41b408>,\n",
       "  <matplotlib.lines.Line2D at 0x233cc442e48>,\n",
       "  <matplotlib.lines.Line2D at 0x233cc4420c8>],\n",
       " 'boxes': [<matplotlib.lines.Line2D at 0x233caabaf08>,\n",
       "  <matplotlib.lines.Line2D at 0x233cc40b7c8>,\n",
       "  <matplotlib.lines.Line2D at 0x233cc407dc8>,\n",
       "  <matplotlib.lines.Line2D at 0x233cc432ec8>],\n",
       " 'medians': [<matplotlib.lines.Line2D at 0x233cb52de08>,\n",
       "  <matplotlib.lines.Line2D at 0x233caa74f08>,\n",
       "  <matplotlib.lines.Line2D at 0x233cc428b88>,\n",
       "  <matplotlib.lines.Line2D at 0x233cc44b388>],\n",
       " 'fliers': [<matplotlib.lines.Line2D at 0x233cb65e4c8>,\n",
       "  <matplotlib.lines.Line2D at 0x233cb406548>,\n",
       "  <matplotlib.lines.Line2D at 0x233cc4326c8>,\n",
       "  <matplotlib.lines.Line2D at 0x233cc450a48>],\n",
       " 'means': []}"
      ]
     },
     "execution_count": 76,
     "metadata": {},
     "output_type": "execute_result"
    },
    {
     "data": {
      "image/png": "[encoded data removed]",
      "text/plain": [
       "<Figure size 432x288 with 1 Axes>"
      ]
     },
     "metadata": {
      "needs_background": "light"
     },
     "output_type": "display_data"
    }
   ],
   "source": [
    "# Generate a box plot of the final tumor volume of each mouse across four regimens of interest\n",
    "plt.boxplot(tumor_data, labels=top_4_drugs)"
   ]
  },
  {
   "cell_type": "markdown",
   "metadata": {},
   "source": [
    "## Line and Scatter Plots"
   ]
  },
  {
   "cell_type": "code",
   "execution_count": 79,
   "metadata": {},
   "outputs": [
    {
     "data": {
      "text/plain": [
       "Text(0, 0.5, 'Tumor Volume (mm3)')"
      ]
     },
     "execution_count": 79,
     "metadata": {},
     "output_type": "execute_result"
    },
    {
     "data": {
      "image/png": "[encoded data removed]",
      "text/plain": [
       "<Figure size 432x288 with 1 Axes>"
      ]
     },
     "metadata": {
      "needs_background": "light"
     },
     "output_type": "display_data"
    }
   ],
   "source": [
    "# Generate a line plot of time point versus tumor volume for a mouse treated with Capomulin\n",
    "#s185\n",
    "mouse_s185=clean_data.loc[clean_data[\"Mouse ID\"]== \"s185\", :]\n",
    "#mouse_s185.head()\n",
    "\n",
    "#define x/y axis\n",
    "x_axis=mouse_s185[\"Timepoint\"]\n",
    "tum_size=mouse_s185[\"Tumor Volume (mm3)\"]\n",
    "\n",
    "#create titles and labels\n",
    "plt.title('Capomulin treatment for mouse s185')\n",
    "plt.plot(x_axis, tum_size, linewidth=4, markersize=10)\n",
    "plt.xlabel('Timepoint (Days)')\n",
    "plt.ylabel('Tumor Volume (mm3)')\n",
    "\n"
   ]
  },
  {
   "cell_type": "code",
   "execution_count": 95,
   "metadata": {},
   "outputs": [
    {
     "data": {
      "text/plain": [
       "Text(0, 0.5, 'Average Tumor Volume (mm3)')"
      ]
     },
     "execution_count": 95,
     "metadata": {},
     "output_type": "execute_result"
    },
    {
     "data": {
      "image/png": "[encoded data removed]",
      "text/plain": [
       "<Figure size 432x288 with 1 Axes>"
      ]
     },
     "metadata": {
      "needs_background": "light"
     },
     "output_type": "display_data"
    }
   ],
   "source": [
    "# Generate a scatter plot of mouse weight versus average tumor volume for the Capomulin regimen\n",
    "#filter data by Mouse Id mean\n",
    "capomulin_average_lbs=clean_data.groupby(['Mouse ID'])['Weight (g)'].mean()\n",
    "capomulin_average_volume=clean_data.groupby(['Mouse ID'])['Tumor Volume (mm3)'].mean()\n",
    "\n",
    "#create the scatter plot\n",
    "plt.scatter(capomulin_average_lbs, capomulin_average_volume)\n",
    "\n",
    "#create labels\n",
    "plt.title('Capomulin mouse average weight vs average tumor volume')\n",
    "plt.xlabel('Weight (g)')\n",
    "plt.ylabel('Average Tumor Volume (mm3)')\n"
   ]
  },
  {
   "cell_type": "markdown",
   "metadata": {},
   "source": [
    "## Correlation and Regression"
   ]
  },
  {
   "cell_type": "code",
   "execution_count": 106,
   "metadata": {},
   "outputs": [
    {
     "data": {
      "image/png": "[encoded data removed]",
      "text/plain": [
       "<Figure size 432x288 with 1 Axes>"
      ]
     },
     "metadata": {
      "needs_background": "light"
     },
     "output_type": "display_data"
    },
    {
     "name": "stdout",
     "output_type": "stream",
     "text": [
      "The correlation between both factors is 0.66.\n"
     ]
    }
   ],
   "source": [
    "# Calculate the correlation coefficient and linear regression model \n",
    "# for mouse weight and average tumor volume for the Capomulin regimen\n",
    "\n",
    "capomulin_average_lbs=clean_data.groupby(['Mouse ID'])['Weight (g)'].mean()\n",
    "capomulin_average_volume=clean_data.groupby(['Mouse ID'])['Tumor Volume (mm3)'].mean()\n",
    "\n",
    "#linear regression\n",
    "(slope, intercept, rvalue, pvalue, stderr) = st.linregress(capomulin_average_lbs, capomulin_average_volume)\n",
    "regress_values = capomulin_average_lbs * slope + intercept\n",
    "line_eq = \"y = \" + str(round(slope,2)) + \"x + \" + str(round(intercept,2))\n",
    "\n",
    "#plot linear model on top of the scatter plot\n",
    "plt.scatter(capomulin_average_lbs, capomulin_average_volume)\n",
    "plt.plot(capomulin_average_lbs,regress_values,\"r-\")\n",
    "\n",
    "#formatt plot\n",
    "plt.annotate(line_eq,(6,10),fontsize=20,color=\"red\")\n",
    "plt.title('Capomulin mouse average weight vs average tumor volume')\n",
    "plt.xlabel('Weight (g)')\n",
    "plt.ylabel('Average Tumor Volume (mm3)')\n",
    "plt.show()\n",
    "\n",
    "#show correlation\n",
    "correlation = round(st.pearsonr(capomulin_average_lbs, capomulin_average_volume)[0],2)\n",
    "print(f\"The correlation between both factors is {correlation}.\")"
   ]
  }
 ],
 "metadata": {
  "anaconda-cloud": {},
  "kernelspec": {
   "display_name": "Python 3",
   "language": "python",
   "name": "python3"
  },
  "language_info": {
   "codemirror_mode": {
    "name": "ipython",
    "version": 3
   },
   "file_extension": ".py",
   "mimetype": "text/x-python",
   "name": "python",
   "nbconvert_exporter": "python",
   "pygments_lexer": "ipython3",
   "version": "3.7.6"
  }
 },
 "nbformat": 4,
 "nbformat_minor": 4
}
